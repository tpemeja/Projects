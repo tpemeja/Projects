{
  "nbformat": 4,
  "nbformat_minor": 0,
  "metadata": {
    "kernelspec": {
      "display_name": "Python 3",
      "language": "python",
      "name": "python3"
    },
    "language_info": {
      "codemirror_mode": {
        "name": "ipython",
        "version": 3
      },
      "file_extension": ".py",
      "mimetype": "text/x-python",
      "name": "python",
      "nbconvert_exporter": "python",
      "pygments_lexer": "ipython3",
      "version": "3.6.9"
    },
    "colab": {
      "name": "tp_ml_go (1).ipynb",
      "provenance": [],
      "collapsed_sections": [],
      "toc_visible": true
    },
    "accelerator": "GPU"
  },
  "cells": [
    {
      "cell_type": "markdown",
      "metadata": {
        "id": "k1PqB-n8fQ7r",
        "colab_type": "text"
      },
      "source": [
        "# Apprenez une heuristique pour le Go\n",
        "\n",
        "Dans ce TP noté, vous devrez déployer des methodes d'apprentissage automatique permettant d'évaluer la qualité de plateaux de GO.\n",
        "\n",
        "Pour cela, vous disposerez de 41563 exemples de plateau de Go, tous générés par gnugo après quelques coups contre lui même avec un niveau de difficulté de 0. Par chaque plateau, nous avons lancé 100 matchs de gnugo contre lui même, toujours avec un niveau 0, et compté le nombre de victoires de noir et de blanc depuis ce plateau.\n",
        "\n",
        "A noter, chaque \"rollout\" (un rollout et un déroulement possible du match depuis le plateau de référence) correspond à  des mouvements choisis aléatoirement parmis les 10 meilleurs mouvements possibles, en biasant le choix aléatoire par la qualité prédite du mouvement par gnugo (les meilleurs mouvements ont une plus forte probabilité d'être tirés).\n",
        "\n",
        "Les données dont vous disposez sont brutes. Ce sera à  vous de proposer un format adéquat pour utiliser ces données en entrée de votre réseau neuronal. \n",
        "\n",
        "## Comment sera évalué votre modèle ?\n",
        "\n",
        "Nous vous fournirons 6h avant la date de rendu un nouveau fichier contenant 1000 nouveaux exemples, qui ne contiendront pas les champs `black_wins`, `white_wins`, `black_points` et `white_points`. Vous devrez laisser, dans votre dépot de projet un fichier texte nommé `my_predictions.txt` ayant une prédiction par ligne (un simple flottant) qui donnera, dans le même ordre de la liste des exemples les scores que vous prédisez pour chacune des entrées du fichier que nous vous aurons donné. Il faudra laisser, dans votre feuille notebook (voir tout en dessous) la cellule Python qui aura créé ce fichier, pour que l'on puisse éventuellement refaire vos prédictions.\n",
        "\n",
        "Bien entendu, vous nous rendrez également votre feuille jupyter **sous deux formats**, à  la fois le fichier `.ipynb` et le fichier `.html` nous permettant de lire ce que vous avez fait, sans forcément relancer la feuille. Nous prendrons en compte les résultats obtenus sur les prédictions mais aussi le contenu de vos notebooks jupyter.\n",
        "\n",
        "### Comment sera noté ce TP ?\n",
        "\n",
        "Il s'agit d'un TP noté, donc il ne faudra pas y passer trop de temps. Nous attendons des prédictions correctes mais surtout des choix justifiés dans la feuille. Votre feuille notebook sera le plus important pour la notation (n'hésitez pas à  mettre des cellules de texte pour expliquer pourquoi vous avez été amenés à  faire certains choix). Ainsi, il serait bien d'avoir, par exemple, les données (graphiques ou autre) qui permettent de comprendre comment vous avez évité l'overfitting.\n",
        "\n",
        "Le fichier de vos prédiction sera évalué en se basant sur la qualité de vos prédictions. Nous mesurerons par exemple le nombre d'exemples dont votre prédiction donnera la bonne valeur à  5%, 10%, 20%, 35%, 50% pour estimer sa qualité.\n",
        "\n",
        "\n",
        "## Mise en route !\n",
        "\n",
        "Voyons  comment lire les données\n"
      ]
    },
    {
      "cell_type": "code",
      "metadata": {
        "id": "53u0irbIfQ7s",
        "colab_type": "code",
        "outputId": "ced0330f-89c5-436e-97c9-c69d8d817edc",
        "colab": {
          "base_uri": "https://localhost:8080/",
          "height": 51
        }
      },
      "source": [
        "# Import du fichier d'exemples\n",
        "\n",
        "def get_raw_data_go():\n",
        "    ''' Returns the set of samples from the local file or download it if it does not exists'''\n",
        "    import gzip, os.path\n",
        "    import json\n",
        "\n",
        "    raw_samples_file = \"samples-9x9.json.gz\"\n",
        "\n",
        "    if not os.path.isfile(raw_samples_file):\n",
        "        print(\"File\", raw_samples_file, \"not found, I am downloading it...\", end=\"\")\n",
        "        import urllib.request \n",
        "        urllib.request.urlretrieve (\"https://www.labri.fr/perso/lsimon/ia-inge2/samples-9x9.json.gz\", \"samples-9x9.json.gz\")\n",
        "        print(\" Done\")\n",
        "\n",
        "    with gzip.open(\"samples-9x9.json.gz\") as fz:\n",
        "        data = json.loads(fz.read().decode(\"utf-8\"))\n",
        "    return data\n",
        "\n",
        "data = get_raw_data_go()\n",
        "print(\"We have\", len(data),\"examples\")"
      ],
      "execution_count": 4,
      "outputs": [
        {
          "output_type": "stream",
          "text": [
            "File samples-9x9.json.gz not found, I am downloading it... Done\n",
            "We have 41563 examples\n"
          ],
          "name": "stdout"
        }
      ]
    },
    {
      "cell_type": "markdown",
      "metadata": {
        "id": "QRZFTyrXfQ7w",
        "colab_type": "text"
      },
      "source": [
        "## Compréhension des données de chaque entrée\n",
        "\n",
        "Voici une description de chaque exemple"
      ]
    },
    {
      "cell_type": "code",
      "metadata": {
        "id": "ReSxwh1nfQ7x",
        "colab_type": "code",
        "outputId": "584facbf-2d20-446b-afe1-27a6f631f76c",
        "colab": {
          "base_uri": "https://localhost:8080/",
          "height": 224
        }
      },
      "source": [
        "def summary_of_example(data, sample_nb):\n",
        "    ''' Gives you some insights about a sample number'''\n",
        "    sample = data[sample_nb]\n",
        "    print(\"Sample\", sample_nb)\n",
        "    print()\n",
        "    print(\"Données brutes en format JSON:\", sample)\n",
        "    print()\n",
        "    print(\"The sample was obtained after\", sample[\"depth\"], \"moves\")\n",
        "    print(\"The successive moves were\", sample[\"list_of_moves\"])\n",
        "    print(\"After these moves and all the captures, there was black stones at the following position\", sample[\"black_stones\"])\n",
        "    print(\"After these moves and all the captures, there was white stones at the following position\", sample[\"white_stones\"])\n",
        "    print(\"Number of rollouts (gnugo games played against itself from this position):\", sample[\"rollouts\"])\n",
        "    print(\"Over these\", sample[\"rollouts\"], \"games, black won\", sample[\"black_wins\"], \"times with\", sample[\"black_points\"], \"total points over all this winning games\")\n",
        "    print(\"Over these\", sample[\"rollouts\"], \"games, white won\", sample[\"white_wins\"], \"times with\", sample[\"white_points\"], \"total points over all this winning games\")\n",
        "\n",
        "summary_of_example(data,10)"
      ],
      "execution_count": 5,
      "outputs": [
        {
          "output_type": "stream",
          "text": [
            "Sample 10\n",
            "\n",
            "Données brutes en format JSON: {'depth': 8, 'list_of_moves': ['C6', 'E7', 'C3', 'C8', 'E5', 'G3', 'B7', 'H7'], 'black_stones': ['B7', 'C6', 'E5', 'C3'], 'white_stones': ['C8', 'E7', 'H7', 'G3'], 'rollouts': 100, 'black_wins': 60, 'black_points': 876.0, 'white_wins': 40, 'white_points': 378.0}\n",
            "\n",
            "The sample was obtained after 8 moves\n",
            "The successive moves were ['C6', 'E7', 'C3', 'C8', 'E5', 'G3', 'B7', 'H7']\n",
            "After these moves and all the captures, there was black stones at the following position ['B7', 'C6', 'E5', 'C3']\n",
            "After these moves and all the captures, there was white stones at the following position ['C8', 'E7', 'H7', 'G3']\n",
            "Number of rollouts (gnugo games played against itself from this position): 100\n",
            "Over these 100 games, black won 60 times with 876.0 total points over all this winning games\n",
            "Over these 100 games, white won 40 times with 378.0 total points over all this winning games\n"
          ],
          "name": "stdout"
        }
      ]
    },
    {
      "cell_type": "markdown",
      "metadata": {
        "id": "BHmqmZpsfQ7z",
        "colab_type": "text"
      },
      "source": [
        "## Données en entrée et en sortie de votre modèle final\n",
        "\n",
        "Même si en interne, votre modèle va manipuler des tenseurs en numpy, vous devrez construire une boite noire qui prendra en entrée les coordonnées des pierres noires et blanches et donnera le pourcentage de chance pour noir de gagner depuis cette position. \n",
        "\n",
        "Ainsi, pour l'exemple `i` :\n",
        "- Vous prendez en entree `data[i][\"black_stones\"]` et `data[i][\"white_stones\"]`\n",
        "- Vous devrez prédire simplement `data[i][\"black_wins\"]/data[i][\"rollouts\"]`\n",
        "\n",
        "Encore une fois, **attention** : en interne, il faudra absolument construire vos données formattées en matrices numpy pour faire votre entrainement. On vous demande juste ici d'écrire comment vous faites ces transformations, pour comprendre ce que vous avez décidé de mettre en entrée du réseau.\n",
        "\n",
        "Voici le modèle de la fonction qui pourra être appelée, au final :\n"
      ]
    },
    {
      "cell_type": "code",
      "metadata": {
        "id": "CmU8hvl2fQ77",
        "colab_type": "code",
        "colab": {}
      },
      "source": [
        "import numpy as np\n",
        "\n",
        "def name_to_coord(s):\n",
        "    assert s != \"PASS\"\n",
        "    indexLetters = {'A':0, 'B':1, 'C':2, 'D':3, 'E':4, 'F':5, 'G':6, 'H':7, 'J':8}\n",
        "\n",
        "    col = indexLetters[s[0]]\n",
        "    lin = int(s[1:]) - 1\n",
        "    return col, lin"
      ],
      "execution_count": 0,
      "outputs": []
    },
    {
      "cell_type": "code",
      "metadata": {
        "id": "uEh4uu6rfQ70",
        "colab_type": "code",
        "colab": {}
      },
      "source": [
        "#Fonction pour prédire la probabilté de victoire du joueur noir\n",
        "def position_predict(black_stones, white_stones,model):\n",
        "\n",
        "    M=np.zeros((9,9,2))\n",
        "    to_predict = []\n",
        "    # On transforme les données en argument en array \n",
        "    for i in white_stones:\n",
        "      col, lin = name_to_coord(i)\n",
        "      M[lin][col][1]=1\n",
        "    for i in black_stones:\n",
        "      col, lin = name_to_coord(i)\n",
        "      M[lin][col][0]=1\n",
        "\n",
        "    # Chaque configuration possède en réalité 7 autres config similaires\n",
        "    for _ in range(4):\n",
        "      to_predict.append(M)\n",
        "      to_predict.append(np.flipud(M))\n",
        "      M=np.rot90(M)\n",
        "  \n",
        "    to_predict=np.array(to_predict).reshape(np.array(to_predict).shape[0],9*9*2)\n",
        "    list_of_prediction = model.predict(to_predict)\n",
        "    pred=[]\n",
        "    # On prédit le winrate du joueur noir pour chacune de ces 8 config similaires\n",
        "    for j in range(8):\n",
        "      pred.append(list_of_prediction[j][0])\n",
        "\n",
        "    pred.sort()\n",
        "    \n",
        "    # On renvoie la médiane des 8 valeurs prédites\n",
        "    prediction = statistics.median(pred)\n",
        "    return round(prediction,2)\n",
        "\n",
        "# Par exemple, nous pourrons appeler votre prédiction ainsi\n",
        "\n",
        "#print(\"Prediction this sample:\")\n",
        "#summary_of_example(data, 10)\n",
        "#print()\n",
        "#prediction = position_predict(data[10][\"black_stones\"], data[10][\"white_stones\"])\n",
        "#print(\"You predicted\", prediction, \"and the actual target was\", data[10][\"black_wins\"]/data[10][\"rollouts\"])\n",
        "\n",
        "# Ainsi, pour le rendu, en admettant que newdata soit le fichier json contenant les nouvelles données que \n",
        "# l'on vous donnera 24h avant la fin, vous pourrez construire le fichier resultat ainsi\n",
        "\n",
        "def create_result_file(newdata):\n",
        "    ''' Exemple de méthode permettant de générer le fichier de resultats demandés. '''\n",
        "    resultat  = [position_predict(d[\"black_stones\"], d[\"white_stones\"]) for d in newdata]\n",
        "    with open(\"my_predictions.txt\", \"w\") as f:\n",
        "         for p in resultat:\n",
        "            f.write(str(p)+\"\\n\")\n",
        "\n"
      ],
      "execution_count": 0,
      "outputs": []
    },
    {
      "cell_type": "code",
      "metadata": {
        "id": "D2adMJ6efQ73",
        "colab_type": "code",
        "outputId": "831d32b5-7725-4298-cd58-03e49d80c9e7",
        "colab": {
          "base_uri": "https://localhost:8080/",
          "height": 590
        }
      },
      "source": [
        "%matplotlib inline\n",
        "import matplotlib.pyplot as plt\n",
        "\n",
        "plt.title(\"Relationship between the depth of the board and the chance for black to win\")\n",
        "plt.plot([sample[\"black_wins\"] for sample in data],[sample[\"depth\"] for sample in data], '.')\n",
        "plt.xlabel(\"black wins (percentage)\")\n",
        "plt.ylabel(\"depth of the game\")\n",
        "\n",
        "\n",
        "# Cumulative Distribution function of the chance of black to win\n",
        "cdf_wins = sorted([sample[\"black_wins\"] for sample in data])\n",
        "plt.figure()\n",
        "plt.plot([x/len(cdf_wins) for x in range(len(cdf_wins))], cdf_wins)\n",
        "plt.title(\"Cumulative Distribution function of the chance of black to win\")\n",
        "plt.xlabel(\"\\% of the samples with a chance of black to win below y\")\n",
        "plt.ylabel(\"Chance of black to win\")\n",
        "print(\"The CDF curve shows that black has more chances to win, globally\")"
      ],
      "execution_count": 8,
      "outputs": [
        {
          "output_type": "stream",
          "text": [
            "The CDF curve shows that black has more chances to win, globally\n"
          ],
          "name": "stdout"
        },
        {
          "output_type": "display_data",
          "data": {
            "image/png": "[encoded data removed]",
            "text/plain": [
              "<Figure size 432x288 with 1 Axes>"
            ]
          },
          "metadata": {
            "tags": [],
            "needs_background": "light"
          }
        },
        {
          "output_type": "display_data",
          "data": {
            "image/png": "[encoded data removed]",
            "text/plain": [
              "<Figure size 432x288 with 1 Axes>"
            ]
          },
          "metadata": {
            "tags": [],
            "needs_background": "light"
          }
        }
      ]
    },
    {
      "cell_type": "markdown",
      "metadata": {
        "id": "1kB_kg0DfQ76",
        "colab_type": "text"
      },
      "source": [
        "# First steps: transform all the data into numpy arrays to feed your neural network\n",
        "\n",
        "Advices:\n",
        "- do not use only a 9x9 matrix as input. Use at least to planes to encode the board. One plane for black and one plane for white (typically with a 1 if there is a black stone for the first plane and with a 1 if there is a white stone for the second plane). The dimension of an input should be at least `[9,9,2]`.\n",
        "- consider to enrich your dataset with all symmetries and rotations. You should be able to multiply the number of samples to consider: any rotation of the board should have the same score, right?\n",
        "- what should happen on the score if you switch the colors? To know which player has to play next, you can check, for a sample, the parity of the length of the list `data[i][\"list_of_moves\"]` (an odd length list would mean that white is the next player. An even length list means that black has to play).\n",
        "- work on enlarging and preparing your data only once. Once all you input data is setup as a big Numpy matrix, you may want to save it for speeding up everything. You can use, for instance `numpy.rot90()` and `numpy.flipud()` to generate all the symmetries\n",
        "\n"
      ]
    },
    {
      "cell_type": "code",
      "metadata": {
        "id": "8RMUtJ1pR_ce",
        "colab_type": "code",
        "outputId": "638c4485-4747-4934-8808-b5c7ecedd4a5",
        "colab": {
          "base_uri": "https://localhost:8080/",
          "height": 34
        }
      },
      "source": [
        "import tensorflow.keras\n",
        "from tensorflow.keras.models import Sequential\n",
        "from tensorflow.keras.layers import Dense, Dropout, Activation, Flatten\n",
        "from tensorflow.keras.layers import Conv1D, Conv2D, BatchNormalization, MaxPooling2D\n",
        "import tensorflow.keras.optimizers as optimizers\n",
        "import numpy as np\n",
        "from sklearn.model_selection import train_test_split\n",
        "import tensorflow as tf\n",
        "\n",
        "L_moves = []\n",
        "L_black_win=[]\n",
        "\n",
        "# Transformation des datas en array utilisables\n",
        "for d in data:\n",
        "  M=np.zeros((9,9,2))\n",
        "\n",
        "  L_white_moves=d[\"white_stones\"]\n",
        "  for i in L_white_moves:\n",
        "    col, lin = name_to_coord(i)\n",
        "    M[col][lin][1]=1\n",
        "  \n",
        "  L_black_moves=d[\"black_stones\"]\n",
        "  for i in L_black_moves:\n",
        "    col, lin = name_to_coord(i)\n",
        "    M[col][lin][0]=1\n",
        "\n",
        "  # Chaque config possède 7 autres config similaires\n",
        "  for _ in range(4):\n",
        "    L_moves.append(M)\n",
        "    L_moves.append(np.flipud(M))\n",
        "    M=np.rot90(M)\n",
        "  # Avec le même winrate pour le joueur noir\n",
        "  for _ in range(8):\n",
        "    L_black_win.append(d[\"black_wins\"]/d[\"rollouts\"])\n",
        "\n",
        "# On garde 33% des données brutes en guise de validation / test\n",
        "X_train, X_test, y_train, y_test = train_test_split(L_moves, L_black_win, test_size=0.33, random_state=42)\n",
        "print(\"Set ok\")\n"
      ],
      "execution_count": 0,
      "outputs": [
        {
          "output_type": "stream",
          "text": [
            "Set ok\n"
          ],
          "name": "stdout"
        }
      ]
    },
    {
      "cell_type": "markdown",
      "metadata": {
        "id": "ijdg4c7mfQ79",
        "colab_type": "text"
      },
      "source": [
        "# Second steps: build your neural network and train it\n",
        "\n",
        "Don't forget to check overfitting, ...\n",
        "\n",
        "*advices* :\n",
        "- you need to test Dense and Conv2D layers (the best models may contain convolution layers=\n",
        "- if you use convolution layers, be sure not to downsize your board. Applying a filter should keep the original size of the board (9x9), otherwise you would somehow forget the stones on the borders\n",
        "- you will use like 33% of your input sample for validation. However, the final goal is to score new data that will be given in addition to the actual data. So, you should use the 33% splitting rule to set up your network architecture and, once you fixed it, you should train your final model on the whole set of data, crossing your fingers that it will generalize well.\n",
        "- Warning: if you launch the fit function from keras more than once, it will not reset the weights and the biases of your neural network. It's good news because you can add more and more epochs to your model, but be careful about the training/test sets: each time you call fit() with validation_split set up to something like 0.33, it will choose a **new** partition of the samples. So you are breaking your validation/training partition! We advice you to use the `sklearn.model_selection.train_test_split()` method to split the set of examples just once and then use the parameter `validation_data` in the call for `fit()`.  Thus you will be able to call it multiple time.\n"
      ]
    },
    {
      "cell_type": "code",
      "metadata": {
        "id": "LvN0BUSj-Fxh",
        "colab_type": "code",
        "colab": {}
      },
      "source": [
        "# Adaptation des données d'entrainement / test pour notre réseau\n",
        "x3_train= np.array(X_train).reshape((np.array(X_train).shape[0],9*9*2))\n",
        "x3_test= np.array(X_test).reshape((np.array(X_test).shape[0],9*9*2))"
      ],
      "execution_count": 0,
      "outputs": []
    },
    {
      "cell_type": "code",
      "metadata": {
        "id": "2UHGy1Q0fQ7-",
        "colab_type": "code",
        "colab": {}
      },
      "source": [
        "# Configuration du modèle avec 6 Dense layers\n",
        "model = Sequential([\n",
        "    Dense(4096, activation='sigmoid', input_shape=(9*9*2,)),\n",
        "    Dense(2048, activation='tanh'),\n",
        "    Dense(1024, activation='sigmoid'),\n",
        "    Dense(256, activation='tanh'),\n",
        "    Dense(64, activation='sigmoid'),\n",
        "    Dense(1, activation='tanh')\n",
        "])\n",
        "\n",
        "# metric utile pour savoir quelle est notre précision en %\n",
        "def my_metric(y_true,y_pred):\n",
        "  diff = y_true - y_pred\n",
        "  return((1-abs(diff))*100)\n",
        "\n",
        "adam = optimizers.Adam(lr=0.0001)\n",
        "\n",
        "model.compile(loss='MSE', optimizer=adam, metrics=[my_metric]) \n",
        "\n",
        "model.fit(np.asarray(x3_train),np.asarray(y_train),batch_size=100,epochs=250, validation_data=(np.asarray(x3_test), np.asarray(y_test)))\n",
        "\n",
        "model.save('my_model.h5')\n",
        "model.summary()"
      ],
      "execution_count": 0,
      "outputs": []
    },
    {
      "cell_type": "code",
      "metadata": {
        "id": "K6FHTCKEOA4J",
        "colab_type": "code",
        "colab": {}
      },
      "source": [
        "# Cellule utile pour continuer l'entrainement du modèle\n",
        "model = tf.keras.models.load_model('my_model.h5', custom_objects={'my_metric': my_metric})\n",
        "model.fit(np.asarray(x3_train),np.asarray(y_train),batch_size=100,epochs=10, validation_data=(np.asarray(x3_test), np.asarray(y_test)))\n",
        "\n",
        "model.save('my_model.h5')"
      ],
      "execution_count": 0,
      "outputs": []
    },
    {
      "cell_type": "code",
      "metadata": {
        "id": "1Bwc8TPl5eQr",
        "colab_type": "code",
        "colab": {}
      },
      "source": [
        "# Cellule pour arranger les données tests et faire la médiane sur 8 prédictions au lieu d'une seule\n",
        "model = tf.keras.models.load_model('model_cheat_9299.h5', custom_objects={'my_metric': my_metric})\n",
        "new_x3_test = []\n",
        "for i in range(len(X_test)):\n",
        "  M=X_test[i]\n",
        "  for _ in range(4):\n",
        "    new_x3_test.append(M)\n",
        "    new_x3_test.append(np.flipud(M))\n",
        "    M=np.rot90(M)\n",
        "def change(M):\n",
        "  new_M=[]\n",
        "  for k in range(2):\n",
        "    N=[]\n",
        "    for i in range(len(M)):\n",
        "      L=[]\n",
        "      for j in range(len(M[0])):\n",
        "        L.append(M[i][j][k])\n",
        "      N.append(L)\n",
        "    new_M.append(N)\n",
        "  return np.array(new_M)\n",
        "  \n",
        "new_x3_test=np.array(new_x3_test).reshape(np.array(new_x3_test).shape[0],9*9*2)"
      ],
      "execution_count": 0,
      "outputs": []
    },
    {
      "cell_type": "code",
      "metadata": {
        "id": "niGd-jp6e0KD",
        "colab_type": "code",
        "outputId": "6424cf04-0279-449a-cc0e-1b84c0cf1138",
        "colab": {
          "base_uri": "https://localhost:8080/",
          "height": 153
        }
      },
      "source": [
        "# Cellule d'affichage et de calcul de précision sur les données tests\n",
        "import statistics\n",
        "\n",
        "y_predS = model.predict(np.asarray(new_x3_test))\n",
        "\n",
        "dec = 8\n",
        "\n",
        "accuracy = 0\n",
        "accuracy2 = 0\n",
        "L1=0\n",
        "L5=0\n",
        "L10=0\n",
        "L15=0\n",
        "L20=0\n",
        "Lsup=0\n",
        "for i in range(0,len(y_predS),dec):\n",
        "  pred=[]\n",
        "  pred2=0\n",
        "  for j in range(dec):\n",
        "    pred.append(y_predS[i+j][0])\n",
        "    pred2+=y_predS[i+j][0]\n",
        "  new_accuracy = abs(statistics.median(pred)-y_test[int(i/dec)])*100\n",
        "  new_accuracy2 = abs(pred2/8-y_test[int(i/dec)])*100\n",
        "  accuracy+= (100-new_accuracy)\n",
        "  accuracy2+= (100-new_accuracy2)\n",
        "  if(new_accuracy <= 1):\n",
        "    L1+=1\n",
        "  if(new_accuracy <= 5):\n",
        "    L5+=1\n",
        "  if(new_accuracy <= 10):\n",
        "    L10+=1\n",
        "  if(new_accuracy <= 15):\n",
        "    L15+=1\n",
        "  if(new_accuracy <= 20):\n",
        "    L20+=1\n",
        "  if(new_accuracy > 20):\n",
        "    Lsup+=1\n",
        "\n",
        "# Affichage de la précision en utilisant la médiane / la moyenne\n",
        "print(\"Mediane : \",accuracy/len(y_test))\n",
        "print(\"Moyennne : \",accuracy2/len(y_test))\n",
        "\n",
        "# Affichage des valeurs dans des intervalles de précisions donnés\n",
        "print(\"1% :\",L1)\n",
        "print(\"5% :\",L5)\n",
        "print(\"10% :\",L10)\n",
        "print(\"15% :\",L15)\n",
        "print(\"20% :\",L20)\n",
        "print(\"> 20% :\",Lsup)"
      ],
      "execution_count": 0,
      "outputs": [
        {
          "output_type": "stream",
          "text": [
            "Mediane :  91.75305994044056\n",
            "Moyennne :  91.21097331698087\n",
            "1% : 28743\n",
            "5% : 56153\n",
            "10% : 77242\n",
            "15% : 90808\n",
            "20% : 98754\n",
            "> 20% : 10973\n"
          ],
          "name": "stdout"
        }
      ]
    },
    {
      "cell_type": "markdown",
      "metadata": {
        "id": "-9ycUCgZfQ8A",
        "colab_type": "text"
      },
      "source": [
        "# Last step\n",
        "\n",
        "Prepare your model to predict the set of new data to predict, you will have only 6 hours to push your predictions.\n",
        "\n",
        "(may be you would like to express, when guessing the percentage of wins for blacks, that it should reflect the fact that this score should be the same for all the symmetries you considered)..."
      ]
    },
    {
      "cell_type": "code",
      "metadata": {
        "id": "KoHfZ9SnfQ8B",
        "colab_type": "code",
        "outputId": "ecc52c26-298c-4c73-e069-94b327f1b775",
        "colab": {
          "base_uri": "https://localhost:8080/",
          "height": 51
        }
      },
      "source": [
        "import gzip, os.path\n",
        "import json\n",
        "\n",
        "raw_samples_file = \"positions-to-evaluate-9x9.json.gz\"\n",
        "new_data_set = \"\"\n",
        "new_data_result = \"\"\n",
        "\n",
        "if not os.path.isfile(raw_samples_file):\n",
        "    print(\"File\", raw_samples_file, \"not found, I am downloading it...\", end=\"\")\n",
        "    import urllib.request \n",
        "    urllib.request.urlretrieve (\"https://www.labri.fr/perso/lsimon/ia-inge2/positions-to-evaluate-9x9.json.gz\", \"positions-to-evaluate-9x9.json.gz\")\n",
        "    print(\" Done\")\n",
        "\n",
        "with gzip.open(\"positions-to-evaluate-9x9.json.gz\") as fz:\n",
        "    new_data_set = json.loads(fz.read().decode(\"utf-8\"))\n",
        "\n",
        "\n",
        "print(\"New set of data downloaded !\")"
      ],
      "execution_count": 9,
      "outputs": [
        {
          "output_type": "stream",
          "text": [
            "File positions-to-evaluate-9x9.json.gz not found, I am downloading it... Done\n",
            "New set of data downloaded !\n"
          ],
          "name": "stdout"
        }
      ]
    },
    {
      "cell_type": "code",
      "metadata": {
        "id": "llcbHGORrFD9",
        "colab_type": "code",
        "outputId": "43e34e02-4032-4e6e-d516-58daa7fe0cf6",
        "colab": {
          "base_uri": "https://localhost:8080/",
          "height": 34
        }
      },
      "source": [
        "# Import du modèle via un lien, il est préférable de l'importer à la main !\n",
        "import urllib.request\n",
        "def my_metric(y_true,y_pred):\n",
        "  diff = y_true - y_pred\n",
        "  return((1-abs(diff))*100)\n",
        "if not os.path.isfile(\"new_model.h5\"):\n",
        "  urllib.request.urlretrieve(\"https://srv-file6.gofile.io/download/3khcKa/model_cheat_9299.h5\", \"new_model.h5\")\n",
        "print(\"Model downloaded !\")"
      ],
      "execution_count": 0,
      "outputs": [
        {
          "output_type": "stream",
          "text": [
            "Model downloaded !\n"
          ],
          "name": "stdout"
        }
      ]
    },
    {
      "cell_type": "code",
      "metadata": {
        "id": "qiEOfhS4tWFz",
        "colab_type": "code",
        "outputId": "9cc52d1e-14b8-4682-976e-bbfb81c27591",
        "colab": {
          "base_uri": "https://localhost:8080/",
          "height": 34
        }
      },
      "source": [
        "# Chargement du modèle et prédictions\n",
        "import tensorflow.keras\n",
        "from tensorflow.keras.models import Sequential\n",
        "from tensorflow.keras.layers import Dense, Dropout, Activation, Flatten\n",
        "from tensorflow.keras.layers import Conv1D, Conv2D, BatchNormalization, MaxPooling2D\n",
        "import tensorflow.keras.optimizers as optimizers\n",
        "import numpy as np\n",
        "from sklearn.model_selection import train_test_split\n",
        "import tensorflow as tf\n",
        "import statistics\n",
        "\n",
        "def my_metric(y_true,y_pred):\n",
        "  diff = y_true - y_pred\n",
        "  return((1-abs(diff))*100)\n",
        "\n",
        "model = tf.keras.models.load_model('new_model.h5', custom_objects={'my_metric': my_metric})\n",
        "predictions = open(\"my_predictions.txt\", \"a\")\n",
        "# Lancement des prédictions\n",
        "pred = []\n",
        "for d in new_data_set:\n",
        "  val = abs(position_predict(d[\"black_stones\"],d[\"white_stones\"],model))\n",
        "  pred.append(val)\n",
        "  predictions.write(str(val))\n",
        "  predictions.write(\"\\n\")\n",
        "\n",
        "predictions.close()\n",
        "print(\"Predictions done !\")"
      ],
      "execution_count": 11,
      "outputs": [
        {
          "output_type": "stream",
          "text": [
            "Predictions done !\n"
          ],
          "name": "stdout"
        }
      ]
    },
    {
      "cell_type": "code",
      "metadata": {
        "id": "l0cUHbVEsEwj",
        "colab_type": "code",
        "outputId": "b5b84460-164d-4369-acd3-0a0eaa8c7d20",
        "colab": {
          "base_uri": "https://localhost:8080/",
          "height": 136
        }
      },
      "source": [
        "# Visualisation de statistiques quand on connait le résultat attendu !\n",
        "import statistics\n",
        "\n",
        "dec = 8\n",
        "\n",
        "accuracy = 0\n",
        "L1=0\n",
        "L5=0\n",
        "L10=0\n",
        "L15=0\n",
        "L20=0\n",
        "Lsup=0\n",
        "for i in range(len(pred)):\n",
        "  new_accuracy = round(abs(pred[i]-res[i])*100,2)\n",
        "  accuracy += 100-new_accuracy\n",
        "  if(new_accuracy <= 1):\n",
        "    L1+=1\n",
        "  if(new_accuracy <= 5):\n",
        "    L5+=1\n",
        "  if(new_accuracy <= 10):\n",
        "    L10+=1\n",
        "  if(new_accuracy <= 15):\n",
        "    L15+=1\n",
        "  if(new_accuracy <= 20):\n",
        "    L20+=1\n",
        "  if(new_accuracy > 20):\n",
        "    Lsup+=1\n",
        "\n",
        "# Affichage de la précision en utilisant la médiane\n",
        "print(\"Précision : \",accuracy/len(res))\n",
        "\n",
        "# Affichage des valeurs dans des intervalles de précisions donnés\n",
        "print(\"1% :\",L1)\n",
        "print(\"5% :\",L5)\n",
        "print(\"10% :\",L10)\n",
        "print(\"15% :\",L15)\n",
        "print(\"20% :\",L20)\n",
        "print(\"> 20% :\",Lsup)"
      ],
      "execution_count": 0,
      "outputs": [
        {
          "output_type": "stream",
          "text": [
            "Précision :  89.28\n",
            "1% : 32\n",
            "5% : 58\n",
            "10% : 67\n",
            "15% : 76\n",
            "20% : 81\n",
            "> 20% : 19\n"
          ],
          "name": "stdout"
        }
      ]
    }
  ]
}