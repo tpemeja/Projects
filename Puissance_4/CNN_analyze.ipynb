{
 "metadata": {
  "language_info": {
   "codemirror_mode": {
    "name": "ipython",
    "version": 3
   },
   "file_extension": ".py",
   "mimetype": "text/x-python",
   "name": "python",
   "nbconvert_exporter": "python",
   "pygments_lexer": "ipython3",
   "version": "3.7.9"
  },
  "orig_nbformat": 2,
  "kernelspec": {
   "name": "python379jvsc74a57bd034d03277f245bf5c062634fe6fe8131269adf004e67bfb76f59977ac29a88ef0",
   "display_name": "Python 3.7.9 64-bit"
  },
  "metadata": {
   "interpreter": {
    "hash": "34d03277f245bf5c062634fe6fe8131269adf004e67bfb76f59977ac29a88ef0"
   }
  }
 },
 "nbformat": 4,
 "nbformat_minor": 2,
 "cells": [
  {
   "cell_type": "code",
   "execution_count": 1,
   "metadata": {},
   "outputs": [
    {
     "output_type": "stream",
     "name": "stdout",
     "text": [
      "Importing libraries ... \n",
      "Done\n"
     ]
    }
   ],
   "source": [
    "print(\"Importing libraries ... \")\n",
    "import numpy as np\n",
    "import matplotlib.pyplot as plt\n",
    "import os\n",
    "import json\n",
    "import Puissance_4_bitboard\n",
    "print(\"Done\")"
   ]
  },
  {
   "cell_type": "code",
   "execution_count": 2,
   "metadata": {},
   "outputs": [],
   "source": [
    "file_dir = os.getcwd()+\"\\\\\"\n",
    "file_data = \"data_set_Puissance_4.json\""
   ]
  },
  {
   "cell_type": "code",
   "execution_count": 3,
   "metadata": {},
   "outputs": [],
   "source": [
    "def load_json(json_file):\n",
    "    with open(json_file) as f:\n",
    "        data = json.load(f)\n",
    "        return data"
   ]
  },
  {
   "cell_type": "code",
   "execution_count": 4,
   "metadata": {},
   "outputs": [],
   "source": [
    "data = load_json(file_dir+file_data)\n",
    "(X_train, Y_train),\\\n",
    "(X_val, Y_val),\\\n",
    "(X_test, Y_test) = (data[\"train\"][\"input\"],data[\"train\"][\"output\"]),\\\n",
    "                   (data[\"validation\"][\"input\"],data[\"validation\"][\"output\"]),\\\n",
    "                   (data[\"test\"][\"input\"],data[\"test\"][\"output\"])"
   ]
  },
  {
   "cell_type": "code",
   "execution_count": 5,
   "metadata": {},
   "outputs": [
    {
     "output_type": "stream",
     "name": "stdout",
     "text": [
      "Data in training set : 5189933\nData in validation set : 864988\nData in test set : 864990\n"
     ]
    }
   ],
   "source": [
    "print(\"Data in training set : {}\".format(len(X_train)))\n",
    "print(\"Data in validation set : {}\".format(len(X_val)))\n",
    "print(\"Data in test set : {}\".format(len(X_test)))"
   ]
  },
  {
   "cell_type": "code",
   "execution_count": 6,
   "metadata": {},
   "outputs": [],
   "source": [
    "import tensorflow.keras\n",
    "from tensorflow.keras.models import Sequential\n",
    "from tensorflow.keras.layers import Dense, Dropout, Activation, Flatten\n",
    "from tensorflow.keras.layers import Conv2D, BatchNormalization\n",
    "import tensorflow.keras.optimizers as optimizers\n",
    "import optuna"
   ]
  },
  {
   "cell_type": "code",
   "execution_count": 7,
   "metadata": {},
   "outputs": [],
   "source": [
    "def my_metric(model, input, output):\n",
    "    return model.evaluate(input, output, verbose=0)[0]"
   ]
  },
  {
   "cell_type": "code",
   "execution_count": 8,
   "metadata": {},
   "outputs": [
    {
     "output_type": "stream",
     "name": "stdout",
     "text": [
      "Creating the objective ... \nDone\n"
     ]
    }
   ],
   "source": [
    "print(\"Creating the objective ... \")\n",
    "class Objective(object):\n",
    "    def __init__(self, X_train, Y_train, X_val, Y_val, model_save_path):\n",
    "        # Hold this implementation specific arguments as the fields of the class.\n",
    "        self._X_train = X_train\n",
    "        self._Y_train = Y_train\n",
    "        self._X_val = X_val\n",
    "        self._Y_val = Y_val\n",
    "        self._model_path = model_save_path\n",
    "\n",
    "    def __call__(self, trial):\n",
    "        model_GO = Sequential([\n",
    "            Conv2D(filters = 64,\n",
    "                input_shape = (6,7,2),\n",
    "                activation = 'relu',\n",
    "                kernel_size = (5,5),\n",
    "                padding = 'same',\n",
    "                data_format = 'channels_last'),\n",
    "            BatchNormalization(axis = 3),\n",
    "            Conv2D(filters = 64,\n",
    "                activation = 'relu',\n",
    "                kernel_size = (5,5),\n",
    "                padding = 'same',\n",
    "                data_format = 'channels_last'),\n",
    "            BatchNormalization(axis = 3),\n",
    "            Conv2D(filters = 64,\n",
    "                activation = 'relu',\n",
    "                kernel_size = (5,5),\n",
    "                padding = 'same',\n",
    "                data_format = 'channels_last'),\n",
    "            BatchNormalization(axis = 3),\n",
    "            Flatten(data_format = 'channels_last'),\n",
    "            Dropout(rate = 0.5),\n",
    "            Dense(units = 32,\n",
    "                activation='relu'),\n",
    "            Dense(2, activation='softmax'),\n",
    "        ])\n",
    "\n",
    "        model_GO.compile(loss='mse',\n",
    "                    optimizer='sgd',\n",
    "                    metrics=['accuracy'])\n",
    "\n",
    "        model_GO.fit(self._X_train, self._Y_train,\n",
    "          batch_size=128,\n",
    "          epochs=1)\n",
    "\n",
    "        return my_metric(model_GO, self._X_val, self._Y_val)\n",
    "print(\"Done\")"
   ]
  },
  {
   "cell_type": "code",
   "execution_count": 9,
   "metadata": {},
   "outputs": [],
   "source": [
    "DATA_NB = 100000"
   ]
  },
  {
   "cell_type": "code",
   "execution_count": 11,
   "metadata": {},
   "outputs": [],
   "source": [
    "new_X_train = [[[[(int(val)&(1<<(i*6+j)))==(1<<(i*6+j)) for val in X_train[k].split()] for j in range(7)] for i in range(6)] for k in range(len(X_train))]\n",
    "new_X_val = [[[[(int(val)&(1<<(i*6+j)))==(1<<(i*6+j)) for val in X_val[k].split()] for j in range(7)] for i in range(6)] for k in range(len(X_val))]\n",
    "new_X_test = [[[[(int(val)&(1<<(i*6+j)))==(1<<(i*6+j)) for val in X_test[k].split()] for j in range(7)] for i in range(6)] for k in range(len(X_test))]"
   ]
  },
  {
   "cell_type": "code",
   "execution_count": 12,
   "metadata": {},
   "outputs": [
    {
     "output_type": "stream",
     "name": "stdout",
     "text": [
      "(5189933, 6, 7, 2)\n(5189933, 2)\n"
     ]
    }
   ],
   "source": [
    "new_Y_train = Y_train\n",
    "new_Y_val = Y_val\n",
    "new_Y_test = Y_test\n",
    "print(np.array(new_X_train).shape)\n",
    "print(np.array(new_Y_train).shape)"
   ]
  },
  {
   "source": [
    "### Symetrie\n",
    "Extend with the vertical axis symetrie"
   ],
   "cell_type": "markdown",
   "metadata": {
    "tags": []
   }
  },
  {
   "cell_type": "code",
   "execution_count": 13,
   "metadata": {},
   "outputs": [],
   "source": [
    "new_X_train += [[new_X_train[i][j][::-1] for j in range(len(new_X_train[i]))] for i in range(len(new_X_train))]\n",
    "new_Y_train += new_Y_train\n",
    "\n",
    "new_X_val += [[new_X_val[i][j][::-1] for j in range(len(new_X_val[i]))] for i in range(len(new_X_val))]\n",
    "new_Y_val += new_Y_val\n",
    "\n",
    "new_X_test += [[new_X_test[i][j][::-1] for j in range(len(new_X_test[i]))] for i in range(len(new_X_test))]\n",
    "new_Y_test += new_Y_test"
   ]
  },
  {
   "cell_type": "code",
   "execution_count": 14,
   "metadata": {},
   "outputs": [],
   "source": [
    "TIMEOUT = 30\n",
    "NB_TRIALS = 0\n",
    "STUDY_NAME = \"TEST\"\n",
    "STR_PATH = \"sqlite:///\"+STUDY_NAME+\"/\"+STUDY_NAME+\".db\""
   ]
  },
  {
   "cell_type": "code",
   "execution_count": 15,
   "metadata": {},
   "outputs": [
    {
     "output_type": "stream",
     "name": "stdout",
     "text": [
      "New study TEST created\n",
      "\u001b[32m[I 2021-04-22 21:31:34,485]\u001b[0m A new study created in RDB with name: TEST\u001b[0m\n",
      "81093/81093 [==============================] - 2914s 36ms/step - loss: 0.2307 - accuracy: 0.5718\n",
      "\u001b[32m[I 2021-04-22 23:45:29,873]\u001b[0m Trial 0 finished with value: 0.2179492861032486 and parameters: {}. Best is trial 0 with value: 0.2179492861032486.\u001b[0m\n",
      "******************************\n",
      "******************************\n",
      "Accuracy: 0.2179492861032486\n",
      "Best hyperparameters: {}\n"
     ]
    }
   ],
   "source": [
    "if os.path.exists(STUDY_NAME):\n",
    "    print(\"-------------------------------------\")\n",
    "    print(\"Study {} loaded\".format(STUDY_NAME))\n",
    "    print(\"-------------------------------------\")\n",
    "    study = optuna.load_study(study_name=STUDY_NAME, storage=STR_PATH)\n",
    "\n",
    "else:\n",
    "    print(\"New study {} created\".format(STUDY_NAME))\n",
    "    os.mkdir(STUDY_NAME)\n",
    "    study = optuna.create_study(study_name=STUDY_NAME,direction=\"minimize\", storage=STR_PATH)\n",
    "\n",
    "# Execute an optimization by using an `Objective` instance.\n",
    "study.optimize(Objective(new_X_train,  new_Y_train, new_X_val,  new_Y_val, STUDY_NAME+\"/\"+STUDY_NAME), n_trials  = NB_TRIALS)\n",
    "\n",
    "trial = study.best_trial\n",
    "print(\"******************************\")\n",
    "print(\"******************************\")\n",
    "print('Accuracy: {}'.format(trial.value))\n",
    "print(\"Best hyperparameters: {}\".format(trial.params))"
   ]
  }
 ]
}