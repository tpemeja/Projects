{
 "metadata": {
  "language_info": {
   "codemirror_mode": {
    "name": "ipython",
    "version": 3
   },
   "file_extension": ".py",
   "mimetype": "text/x-python",
   "name": "python",
   "nbconvert_exporter": "python",
   "pygments_lexer": "ipython3",
   "version": "3.7.9"
  },
  "orig_nbformat": 2,
  "kernelspec": {
   "name": "python379jvsc74a57bd034d03277f245bf5c062634fe6fe8131269adf004e67bfb76f59977ac29a88ef0",
   "display_name": "Python 3.7.9 64-bit"
  },
  "metadata": {
   "interpreter": {
    "hash": "34d03277f245bf5c062634fe6fe8131269adf004e67bfb76f59977ac29a88ef0"
   }
  }
 },
 "nbformat": 4,
 "nbformat_minor": 2,
 "cells": [
  {
   "cell_type": "code",
   "execution_count": 1,
   "metadata": {},
   "outputs": [],
   "source": [
    "import os\n",
    "import optuna\n",
    "import myNetwork"
   ]
  },
  {
   "cell_type": "code",
   "execution_count": 2,
   "metadata": {},
   "outputs": [
    {
     "output_type": "stream",
     "name": "stdout",
     "text": [
      "-------------------------------------\nStudy Genetic_3 loaded\n-------------------------------------\nAccuracy: 0.75\nBest hyperparameters: {'0': 125, '1': 89, '2': 67, '3': 80, '4': 35, 'Mutation probability': 0.574702, 'Mutation rate': 0.21314, 'n_layers': 5, 'Number of players selected': 6, 'Selection mode': 'truncated', 'Tournament': 'RA'}\n"
     ]
    }
   ],
   "source": [
    "STUDY_NAME = \"Genetic_3\"\n",
    "STR_PATH = \"mysql://root@localhost/\"+STUDY_NAME\n",
    "\n",
    "if os.popen('mysql -u root -e \"SHOW DATABASES LIKE \\''+STUDY_NAME+'\\'\"').read()!=\"\":\n",
    "    print(\"-------------------------------------\")\n",
    "    print(\"Study {} loaded\".format(STUDY_NAME))\n",
    "    print(\"-------------------------------------\")\n",
    "    study = optuna.load_study(study_name=STUDY_NAME, storage=STR_PATH)\n",
    "trial = study.best_trial\n",
    "print('Accuracy: {}'.format(trial.value))\n",
    "print(\"Best hyperparameters: {}\".format(trial.params))"
   ]
  },
  {
   "cell_type": "code",
   "execution_count": 3,
   "metadata": {},
   "outputs": [
    {
     "output_type": "stream",
     "name": "stdout",
     "text": [
      "Résultat génération 0 : 155-145\n",
      "Résultat génération 1 : 172-128\n",
      "Résultat génération 2 : 178-122\n",
      "Résultat génération 3 : 165-135\n",
      "Résultat génération 4 : 179-121\n",
      "Résultat génération 5 : 173-127\n",
      "Résultat génération 6 : 172-128\n",
      "Résultat génération 7 : 183-117\n",
      "Résultat génération 8 : 162-138\n",
      "Résultat génération 9 : 187-113\n",
      "Résultat génération 10 : 175-125\n",
      "Résultat génération 11 : 178-122\n",
      "Résultat génération 12 : 194-106\n",
      "Résultat génération 13 : 179-121\n",
      "Résultat génération 14 : 203-97\n",
      "Résultat génération 15 : 183-117\n",
      "Résultat génération 16 : 185-115\n",
      "Résultat génération 17 : 179-121\n",
      "Résultat génération 18 : 171-129\n",
      "Résultat génération 19 : 181-119\n"
     ]
    },
    {
     "output_type": "execute_result",
     "data": {
      "text/plain": [
       "(181, 119)"
      ]
     },
     "metadata": {},
     "execution_count": 3
    }
   ],
   "source": [
    "\"\"\"\n",
    "Accuracy: 0.7125\n",
    "Best hyperparameters: {'0': 42, '1': 8, '2': 4, 'Mutation probability': 0.8290492666306407, 'Mutation rate': 0.240972478426479, 'Number of players selected': 8, 'Selection mode': 'fitness', 'Tournament': 'RA', 'n_layers': 3}\n",
    "\n",
    "Accuracy: 0.65\n",
    "Best hyperparameters: {'0': 46, '1': 39, 'Mutation probability': 0.148524, 'Mutation rate': 0.112658, 'n_layers': 2, 'Number of players selected': 18, 'Selection mode': 'fitness', 'Tournament': 'RA'}\n",
    "\n",
    "Accuracy: 0.728571\n",
    "Best hyperparameters: {'0': 70, '1': 23, '2': 85, '3': 25, '4': 74, 'Mutation probability': 0.822226, 'Mutation rate': 0.0928295, 'n_layers': 5, 'Number of players selected': 7, 'Selection mode': 'fitness', 'Tournament': 'RA'}\n",
    "\"\"\"\n",
    "\n",
    "test = myNetwork.GeneticAlgorithm(population_size = 50,\n",
    "                        network_shape = [84,70,23,85,25,74,1],\n",
    "                        activations=[myNetwork.Relu,myNetwork.Relu,myNetwork.Linear],\n",
    "                        mean = 0, \n",
    "                        std = 1,\n",
    "                        generations = 50,\n",
    "                        selected_by_generation = 7,\n",
    "                        mode = \"fitness\",\n",
    "                        mutation_rate = 0.0928295,\n",
    "                        mutation_probability = 0.822226,\n",
    "                        tournament = \"RA\",\n",
    "                        nb_game = 10,\n",
    "                        game_point = [1,0,0.5])\n",
    "test.initialize_population()\n",
    "test.run(verbal = True)"
   ]
  },
  {
   "cell_type": "code",
   "execution_count": 2,
   "metadata": {},
   "outputs": [
    {
     "output_type": "error",
     "ename": "NameError",
     "evalue": "name 'test' is not defined",
     "traceback": [
      "\u001b[1;31m---------------------------------------------------------------------------\u001b[0m",
      "\u001b[1;31mNameError\u001b[0m                                 Traceback (most recent call last)",
      "\u001b[1;32m<ipython-input-2-c90140714b0a>\u001b[0m in \u001b[0;36m<module>\u001b[1;34m\u001b[0m\n\u001b[1;32m----> 1\u001b[1;33m \u001b[0mL\u001b[0m \u001b[1;33m=\u001b[0m \u001b[0mtest\u001b[0m\u001b[1;33m.\u001b[0m\u001b[0mbest\u001b[0m\u001b[1;33m(\u001b[0m\u001b[1;36m5\u001b[0m\u001b[1;33m)\u001b[0m\u001b[1;33m\u001b[0m\u001b[1;33m\u001b[0m\u001b[0m\n\u001b[0m\u001b[0;32m      2\u001b[0m \u001b[1;32mfor\u001b[0m \u001b[0mi\u001b[0m \u001b[1;32min\u001b[0m \u001b[0mrange\u001b[0m\u001b[1;33m(\u001b[0m\u001b[0mlen\u001b[0m\u001b[1;33m(\u001b[0m\u001b[0mL\u001b[0m\u001b[1;33m)\u001b[0m\u001b[1;33m)\u001b[0m\u001b[1;33m:\u001b[0m\u001b[1;33m\u001b[0m\u001b[1;33m\u001b[0m\u001b[0m\n\u001b[0;32m      3\u001b[0m     score_player, score_adversary = test.score(L[i], test._adversary, nb_game = 100,\n\u001b[0;32m      4\u001b[0m                                                     Win = test._game_point[0], Lose = test._game_point[1], Deuce = test._game_point[2])\n\u001b[0;32m      5\u001b[0m     \u001b[0mprint\u001b[0m\u001b[1;33m(\u001b[0m\u001b[0mscore_player\u001b[0m\u001b[1;33m,\u001b[0m \u001b[0mscore_adversary\u001b[0m\u001b[1;33m)\u001b[0m\u001b[1;33m\u001b[0m\u001b[1;33m\u001b[0m\u001b[0m\n",
      "\u001b[1;31mNameError\u001b[0m: name 'test' is not defined"
     ]
    }
   ],
   "source": [
    "L = test.best(5)\n",
    "for i in range(len(L)):\n",
    "    score_player, score_adversary = test.score(L[i], test._adversary, nb_game = 100,\n",
    "                                                    Win = test._game_point[0], Lose = test._game_point[1], Deuce = test._game_point[2])\n",
    "    print(score_player, score_adversary)"
   ]
  },
  {
   "cell_type": "code",
   "execution_count": 2,
   "metadata": {},
   "outputs": [
    {
     "output_type": "stream",
     "name": "stdout",
     "text": [
      "113 87\n"
     ]
    }
   ],
   "source": [
    "import randomPlayer\n",
    "player_1 = myNetwork.geneticPlayer.myPlayer(myNetwork.Network([84,10,1]))\n",
    "player_2 = randomPlayer.myPlayer()\n",
    "for _ in range(1):\n",
    "    score_player, score_adversary = myNetwork.GeneticAlgorithm.score(player_1, player_2, nb_game = 100, Win = 1, Lose = 0, Deuce = 0.5)\n",
    "    print(score_player, score_adversary)"
   ]
  },
  {
   "cell_type": "code",
   "execution_count": null,
   "metadata": {},
   "outputs": [],
   "source": []
  }
 ]
}