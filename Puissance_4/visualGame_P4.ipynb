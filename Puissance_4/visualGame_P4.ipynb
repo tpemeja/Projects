{
  "nbformat": 4,
  "nbformat_minor": 0,
  "metadata": {
    "kernelspec": {
      "name": "python379jvsc74a57bd0cf5a685108565637639bd9de4e1d7b3a5725efd2ba98f3912cac52811a8adeec",
      "display_name": "Python 3.7.9 64-bit"
    },
    "language_info": {
      "codemirror_mode": {
        "name": "ipython",
        "version": 3
      },
      "file_extension": ".py",
      "mimetype": "text/x-python",
      "name": "python",
      "nbconvert_exporter": "python",
      "pygments_lexer": "ipython3",
      "version": "3.7.9"
    },
    "colab": {
      "name": "visualGame_P4.ipynb",
      "provenance": [],
      "collapsed_sections": [],
      "toc_visible": true
    }
  },
  "cells": [
    {
      "cell_type": "markdown",
      "metadata": {
        "id": "S-ePYHkt1Q4c"
      },
      "source": [
        "## Adaptation de namedGame à Jupyter\n",
        "\n",
        "Vous pouvez utiliser cette feuille pour visualiser un match.\n",
        "\n",
        "Pour charger vos joueurs, il faut changer leurs noms dans 'classNames' (ligne 13)"
      ]
    },
    {
      "cell_type": "code",
      "metadata": {
        "colab": {
          "base_uri": "https://localhost:8080/"
        },
        "id": "QuIlASwz1Q4i",
        "outputId": "3aca31b9-a3bb-42ed-b390-2e718516a173"
      },
      "source": [
        "''' Sorry no comments :).\n",
        "'''\n",
        "import Puissance_4\n",
        "import importlib\n",
        "import time\n",
        "from io import StringIO\n",
        "import sys\n",
        "from IPython.display import display, HTML, clear_output\n",
        "\n",
        "# Uncomment for saving the successive SVG to PNG\n",
        "# from cairosvg import svg2png\n",
        "\n",
        "# Define here the players to load\n",
        "classNames = ['randomPlayer', 'randomPlayer']\n",
        "\n",
        "b = Puissance_4.Board()\n",
        "\n",
        "players = []\n",
        "player1class = importlib.import_module(classNames[0])\n",
        "player1 = player1class.myPlayer()\n",
        "player1.newGame(Puissance_4.Board._RED)\n",
        "players.append(player1)\n",
        "\n",
        "player2class = importlib.import_module(classNames[1])\n",
        "player2 = player2class.myPlayer()\n",
        "player2.newGame(Puissance_4.Board._YELLOW)\n",
        "players.append(player2)\n",
        "\n",
        "totalTime = [0,0] # total real time for each player\n",
        "nextplayer = 0\n",
        "nextplayercolor = Puissance_4.Board._RED\n",
        "nbmoves = 1\n",
        "\n",
        "outputs = [\"\",\"\"]\n",
        "sysstdout= sys.stdout\n",
        "stringio = StringIO()\n",
        "wrongmovefrom = 0\n",
        "\n",
        "print(\"The game is setup with \" + player1.getPlayerName() + \" playing RED against \" + player2.getPlayerName() + \" playing YELLOW\")\n",
        "print(\"Engines loaded. Ready to go.\")\n"
      ],
      "execution_count": 1,
      "outputs": [
        {
          "output_type": "stream",
          "name": "stdout",
          "text": [
            "The game is setup with Random Player playing RED against Random Player playing YELLOW\nEngines loaded. Ready to go.\n"
          ]
        }
      ]
    },
    {
      "cell_type": "code",
      "metadata": {
        "colab": {
          "base_uri": "https://localhost:8080/",
          "height": 334
        },
        "id": "DHelZsVU1Q4l",
        "outputId": "ce93eed5-085e-4f1b-af7e-8269fb69c261"
      },
      "source": [
        "coup = 1\n",
        "while not b.is_game_over():\n",
        "    print(\"Referee Board\")\n",
        "    clear_output(wait=True)\n",
        "    #display(HTML(b.svg()))\n",
        "    display(HTML(b.svg2()))\n",
        "    #svg2png(bytestring=b.svg(),write_to='output-'+str(coup).zfill(4)+'.png')\n",
        "    legals = b.legal_moves() # legal moves are given as internal (flat) coordinates, not A1, A2, ...\n",
        "\n",
        "    print(\"Legal Moves: \", [b.coord_to_name(m) for m in legals]) # I have to use this wrapper if I want to print them\n",
        "    nbmoves += 1\n",
        "    otherplayer = (nextplayer + 1) % 2\n",
        "    othercolor = Puissance_4.Board.flip(nextplayercolor)\n",
        "    \n",
        "    currentTime = time.time()\n",
        "    sys.stdout = stringio\n",
        "    move = players[nextplayer].getPlayerMove() # The move must be given by \"A1\", ... \"J8\" string coordinates (not as an internal move)\n",
        "    sys.stdout = sysstdout\n",
        "    playeroutput = stringio.getvalue()\n",
        "    stringio.truncate(0)\n",
        "    stringio.seek(0)\n",
        "    print((\"[Player \"+str(nextplayer) + \"] \").join(playeroutput.splitlines(True)))\n",
        "    outputs[nextplayer] += playeroutput\n",
        "    totalTime[nextplayer] += time.time() - currentTime\n",
        "    print(\"Player \", nextplayercolor, players[nextplayer].getPlayerName(), \"plays: \" + str(move)) #changed \n",
        "\n",
        "    if not Puissance_4.Board.name_to_coord(move) in legals:\n",
        "        print(otherplayer, nextplayer, nextplayercolor)\n",
        "        print(\"Problem: illegal move\")\n",
        "        wrongmovefrom = nextplayercolor\n",
        "        break\n",
        "    b.push(Puissance_4.Board.name_to_coord(move)) # Here I have to internally flatten the move to be able to check it.\n",
        "    players[otherplayer].playOpponentMove(move)\n",
        " \n",
        "    nextplayer = otherplayer\n",
        "    nextplayercolor = othercolor\n",
        "    time.sleep(1)\n",
        "    coup += 1\n",
        "\n",
        "print(\"Referee Board:\")\n",
        "clear_output(wait=True)\n",
        "display(HTML(b.svg()))\n",
        "print(\"The game is over\")\n",
        "b.board_to_text(b._board)\n",
        "result = b.result()\n",
        "print(\"Time:\", totalTime)\n",
        "print(\"Winner: \", end=\"\")\n",
        "if wrongmovefrom > 0:\n",
        "    if wrongmovefrom == b._YELLOW:\n",
        "        print(\"RED\")\n",
        "    elif wrongmovefrom == b._RED:\n",
        "        print(\"YELLOW\")\n",
        "    else:\n",
        "        print(\"ERROR\")\n",
        "elif result == \"0-1\":\n",
        "    print(\"YELLOW\")\n",
        "elif result == \"1-0\":\n",
        "    print(\"RED\")\n",
        "else:\n",
        "    print(\"DEUCE\")\n",
        "\n",
        "# To convert png files to animated gif    \n",
        "# convert -delay 10 -loop 0 *.png -background white -alpha remove -alpha off output.gif\n",
        "\n"
      ],
      "execution_count": 2,
      "outputs": [
        {
          "output_type": "display_data",
          "data": {
            "text/plain": "<IPython.core.display.HTML object>",
            "text/html": "<svg height=\"260\"  width=\"300\" > <svg height=\"20\" width=\"300\"><text x=\"35\" y=\"18\" font-size=\"24\" font-color=\"RED\">A</text><text x=\"75\" y=\"18\" font-size=\"24\" font-color=\"RED\">B</text><text x=\"115\" y=\"18\" font-size=\"24\" font-color=\"RED\">C</text><text x=\"155\" y=\"18\" font-size=\"24\" font-color=\"RED\">D</text><text x=\"195\" y=\"18\" font-size=\"24\" font-color=\"RED\">E</text><text x=\"235\" y=\"18\" font-size=\"24\" font-color=\"RED\">F</text><text x=\"275\" y=\"18\" font-size=\"24\" font-color=\"RED\">G</text></svg><svg width=\"20\" height=\"300\"><text y=\"47\" x=\"0\" font-size=\"24\" font-color=\"RED\">6</text><text y=\"87\" x=\"0\" font-size=\"24\" font-color=\"RED\">5</text><text y=\"127\" x=\"0\" font-size=\"24\" font-color=\"RED\">4</text><text y=\"167\" x=\"0\" font-size=\"24\" font-color=\"RED\">3</text><text y=\"207\" x=\"0\" font-size=\"24\" font-color=\"RED\">2</text><text y=\"247\" x=\"0\" font-size=\"24\" font-color=\"RED\">1</text></svg> <svg x=\"20\" y=\"20\" height=\"260\" width=\"300\" > <rect x=\"0\" y=\"0\" width=\"280\" height=\"240\" fill=\"#1b019b\" /><circle cx=\"20\" cy=\"20\" r=\"16\" stroke=\"#333333\" stroke-width=\"3\" fill=\"WHITE\" /><circle cx=\"20\" cy=\"60\" r=\"16\" stroke=\"#333333\" stroke-width=\"3\" fill=\"WHITE\" /><circle cx=\"20\" cy=\"100\" r=\"16\" stroke=\"#333333\" stroke-width=\"3\" fill=\"WHITE\" /><circle cx=\"20\" cy=\"140\" r=\"16\" stroke=\"#333333\" stroke-width=\"3\" fill=\"WHITE\" /><circle cx=\"20\" cy=\"180\" r=\"16\" stroke=\"#333333\" stroke-width=\"3\" fill=\"WHITE\" /><circle cx=\"20\" cy=\"220\" r=\"16\" stroke=\"#333333\" stroke-width=\"3\" fill=\"WHITE\" /><circle cx=\"60\" cy=\"20\" r=\"16\" stroke=\"#333333\" stroke-width=\"3\" fill=\"WHITE\" /><circle cx=\"60\" cy=\"60\" r=\"16\" stroke=\"#333333\" stroke-width=\"3\" fill=\"WHITE\" /><circle cx=\"60\" cy=\"100\" r=\"16\" stroke=\"#333333\" stroke-width=\"3\" fill=\"WHITE\" /><circle cx=\"60\" cy=\"140\" r=\"16\" stroke=\"#333333\" stroke-width=\"3\" fill=\"WHITE\" /><circle cx=\"60\" cy=\"180\" r=\"16\" stroke=\"#333333\" stroke-width=\"3\" fill=\"WHITE\" /><circle cx=\"60\" cy=\"220\" r=\"16\" stroke=\"#333333\" stroke-width=\"3\" fill=\"WHITE\" /><circle cx=\"100\" cy=\"20\" r=\"16\" stroke=\"#333333\" stroke-width=\"3\" fill=\"WHITE\" /><circle cx=\"100\" cy=\"60\" r=\"16\" stroke=\"#333333\" stroke-width=\"3\" fill=\"WHITE\" /><circle cx=\"100\" cy=\"100\" r=\"16\" stroke=\"#333333\" stroke-width=\"3\" fill=\"WHITE\" /><circle cx=\"100\" cy=\"140\" r=\"16\" stroke=\"#333333\" stroke-width=\"3\" fill=\"WHITE\" /><circle cx=\"100\" cy=\"180\" r=\"16\" stroke=\"#333333\" stroke-width=\"3\" fill=\"WHITE\" /><circle cx=\"100\" cy=\"220\" r=\"16\" stroke=\"#333333\" stroke-width=\"3\" fill=\"WHITE\" /><circle cx=\"140\" cy=\"20\" r=\"16\" stroke=\"#333333\" stroke-width=\"3\" fill=\"WHITE\" /><circle cx=\"140\" cy=\"60\" r=\"16\" stroke=\"#333333\" stroke-width=\"3\" fill=\"WHITE\" /><circle cx=\"140\" cy=\"100\" r=\"16\" stroke=\"#333333\" stroke-width=\"3\" fill=\"WHITE\" /><circle cx=\"140\" cy=\"140\" r=\"16\" stroke=\"#333333\" stroke-width=\"3\" fill=\"WHITE\" /><circle cx=\"140\" cy=\"180\" r=\"16\" stroke=\"#333333\" stroke-width=\"3\" fill=\"WHITE\" /><circle cx=\"140\" cy=\"220\" r=\"16\" stroke=\"#333333\" stroke-width=\"3\" fill=\"WHITE\" /><circle cx=\"180\" cy=\"20\" r=\"16\" stroke=\"#333333\" stroke-width=\"3\" fill=\"WHITE\" /><circle cx=\"180\" cy=\"60\" r=\"16\" stroke=\"#333333\" stroke-width=\"3\" fill=\"WHITE\" /><circle cx=\"180\" cy=\"100\" r=\"16\" stroke=\"#333333\" stroke-width=\"3\" fill=\"WHITE\" /><circle cx=\"180\" cy=\"140\" r=\"16\" stroke=\"#333333\" stroke-width=\"3\" fill=\"WHITE\" /><circle cx=\"180\" cy=\"180\" r=\"16\" stroke=\"#333333\" stroke-width=\"3\" fill=\"WHITE\" /><circle cx=\"180\" cy=\"220\" r=\"16\" stroke=\"#333333\" stroke-width=\"3\" fill=\"WHITE\" /><circle cx=\"220\" cy=\"20\" r=\"16\" stroke=\"#333333\" stroke-width=\"3\" fill=\"WHITE\" /><circle cx=\"220\" cy=\"60\" r=\"16\" stroke=\"#333333\" stroke-width=\"3\" fill=\"WHITE\" /><circle cx=\"220\" cy=\"100\" r=\"16\" stroke=\"#333333\" stroke-width=\"3\" fill=\"WHITE\" /><circle cx=\"220\" cy=\"140\" r=\"16\" stroke=\"#333333\" stroke-width=\"3\" fill=\"WHITE\" /><circle cx=\"220\" cy=\"180\" r=\"16\" stroke=\"#333333\" stroke-width=\"3\" fill=\"WHITE\" /><circle cx=\"220\" cy=\"220\" r=\"16\" stroke=\"#333333\" stroke-width=\"3\" fill=\"WHITE\" /><circle cx=\"260\" cy=\"20\" r=\"16\" stroke=\"#333333\" stroke-width=\"3\" fill=\"WHITE\" /><circle cx=\"260\" cy=\"60\" r=\"16\" stroke=\"#333333\" stroke-width=\"3\" fill=\"WHITE\" /><circle cx=\"260\" cy=\"100\" r=\"16\" stroke=\"#333333\" stroke-width=\"3\" fill=\"WHITE\" /><circle cx=\"260\" cy=\"140\" r=\"16\" stroke=\"#333333\" stroke-width=\"3\" fill=\"WHITE\" /><circle cx=\"260\" cy=\"180\" r=\"16\" stroke=\"#333333\" stroke-width=\"3\" fill=\"WHITE\" /><circle cx=\"260\" cy=\"220\" r=\"16\" stroke=\"#333333\" stroke-width=\"3\" fill=\"WHITE\" /><circle cx=\"60\" cy=\"220\" r=\"16\" stroke=\"#333333\" stroke-width=\"3\" fill=\"yellow\" /><circle cx=\"100\" cy=\"220\" r=\"16\" stroke=\"#333333\" stroke-width=\"3\" fill=\"red\" /><circle cx=\"140\" cy=\"100\" r=\"16\" stroke=\"#333333\" stroke-width=\"3\" fill=\"red\" /><circle cx=\"140\" cy=\"140\" r=\"16\" stroke=\"#333333\" stroke-width=\"3\" fill=\"red\" /><circle cx=\"140\" cy=\"180\" r=\"16\" stroke=\"#333333\" stroke-width=\"3\" fill=\"red\" /><circle cx=\"140\" cy=\"220\" r=\"16\" stroke=\"#333333\" stroke-width=\"3\" fill=\"yellow\" /><circle cx=\"180\" cy=\"140\" r=\"16\" stroke=\"#333333\" stroke-width=\"3\" fill=\"red\" /><circle cx=\"180\" cy=\"180\" r=\"16\" stroke=\"#333333\" stroke-width=\"3\" fill=\"yellow\" /><circle cx=\"180\" cy=\"220\" r=\"16\" stroke=\"#333333\" stroke-width=\"3\" fill=\"red\" /><circle cx=\"220\" cy=\"100\" r=\"16\" stroke=\"#333333\" stroke-width=\"3\" fill=\"yellow\" /><circle cx=\"220\" cy=\"140\" r=\"16\" stroke=\"#333333\" stroke-width=\"3\" fill=\"red\" /><circle cx=\"220\" cy=\"180\" r=\"16\" stroke=\"#333333\" stroke-width=\"3\" fill=\"yellow\" /><circle cx=\"220\" cy=\"220\" r=\"16\" stroke=\"#333333\" stroke-width=\"3\" fill=\"yellow\" /><circle cx=\"260\" cy=\"20\" r=\"16\" stroke=\"#333333\" stroke-width=\"3\" fill=\"yellow\" /><circle cx=\"260\" cy=\"60\" r=\"16\" stroke=\"#333333\" stroke-width=\"3\" fill=\"red\" /><circle cx=\"260\" cy=\"100\" r=\"16\" stroke=\"#333333\" stroke-width=\"3\" fill=\"yellow\" /><circle cx=\"260\" cy=\"140\" r=\"16\" stroke=\"#333333\" stroke-width=\"3\" fill=\"red\" /><circle cx=\"260\" cy=\"180\" r=\"16\" stroke=\"#333333\" stroke-width=\"3\" fill=\"yellow\" /><circle cx=\"260\" cy=\"220\" r=\"16\" stroke=\"#333333\" stroke-width=\"3\" fill=\"red\" /></svg></svg>"
          },
          "metadata": {}
        },
        {
          "output_type": "stream",
          "name": "stdout",
          "text": [
            "The game is over\nTime: [0.0019979476928710938, 0.0]\nWinner: RED\n"
          ]
        }
      ]
    },
    {
      "cell_type": "code",
      "execution_count": null,
      "metadata": {},
      "outputs": [],
      "source": []
    }
  ]
}