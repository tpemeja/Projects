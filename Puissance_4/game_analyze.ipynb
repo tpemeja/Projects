{
 "metadata": {
  "language_info": {
   "codemirror_mode": {
    "name": "ipython",
    "version": 3
   },
   "file_extension": ".py",
   "mimetype": "text/x-python",
   "name": "python",
   "nbconvert_exporter": "python",
   "pygments_lexer": "ipython3",
   "version": "3.7.9-final"
  },
  "orig_nbformat": 2,
  "kernelspec": {
   "name": "python379jvsc74a57bd034d03277f245bf5c062634fe6fe8131269adf004e67bfb76f59977ac29a88ef0",
   "display_name": "Python 3.7.9 64-bit"
  },
  "metadata": {
   "interpreter": {
    "hash": "34d03277f245bf5c062634fe6fe8131269adf004e67bfb76f59977ac29a88ef0"
   }
  }
 },
 "nbformat": 4,
 "nbformat_minor": 2,
 "cells": [
  {
   "cell_type": "code",
   "execution_count": 1,
   "metadata": {},
   "outputs": [
    {
     "output_type": "stream",
     "name": "stdout",
     "text": [
      "Importing libraries ... \n",
      "Done\n"
     ]
    }
   ],
   "source": [
    "print(\"Importing libraries ... \")\n",
    "import numpy as np\n",
    "import matplotlib.pyplot as plt\n",
    "import os\n",
    "import json\n",
    "print(\"Done\")"
   ]
  },
  {
   "cell_type": "code",
   "execution_count": 2,
   "metadata": {},
   "outputs": [],
   "source": [
    "file_dir = os.getcwd()+\"\\\\\"\n",
    "file_data = \"data_Puissance_4.json\""
   ]
  },
  {
   "cell_type": "code",
   "execution_count": 3,
   "metadata": {},
   "outputs": [],
   "source": [
    "def load_json(json_file):\n",
    "    with open(json_file) as f:\n",
    "        data = json.load(f)['match']\n",
    "        return data"
   ]
  },
  {
   "cell_type": "code",
   "execution_count": 4,
   "metadata": {},
   "outputs": [],
   "source": [
    "data = load_json(file_dir+file_data)"
   ]
  },
  {
   "cell_type": "code",
   "execution_count": 5,
   "metadata": {},
   "outputs": [],
   "source": [
    "n = len(data)\n",
    "Y_win = 0\n",
    "R_win = 0\n",
    "deuce = 0\n",
    "for i in range(n):\n",
    "    result = data[i]['winner']\n",
    "    if(result == \"YELLOW\"):\n",
    "        Y_win += 1\n",
    "    elif(result == \"RED\"):\n",
    "        R_win += 1\n",
    "    else:\n",
    "        deuce += 1"
   ]
  },
  {
   "cell_type": "code",
   "execution_count": 6,
   "metadata": {},
   "outputs": [],
   "source": [
    "L_len_match = [len(data[i]['board']) for i in range(n)]"
   ]
  },
  {
   "cell_type": "code",
   "execution_count": 7,
   "metadata": {},
   "outputs": [
    {
     "output_type": "stream",
     "name": "stdout",
     "text": [
      "Data in file : 547389\nNumber of YELLOW win : 242751\nNumber of RED win : 303299\nNumber of DEUCE : 1339\nAverage number of moves played : 22.38023781990504\nMaximum number of moves played : 43\nMinimum number of moves played : 8\n"
     ]
    }
   ],
   "source": [
    "print(\"Data in file : {}\".format(n))\n",
    "print(\"Number of YELLOW win : {}\".format(Y_win))\n",
    "print(\"Number of RED win : {}\".format(R_win))\n",
    "print(\"Number of DEUCE : {}\".format(deuce))\n",
    "print(\"Average number of moves played : {}\".format(sum(L_len_match)/n))\n",
    "print(\"Maximum number of moves played : {}\".format(max(L_len_match)))\n",
    "print(\"Minimum number of moves played : {}\".format(min(L_len_match)))"
   ]
  },
  {
   "cell_type": "code",
   "execution_count": 8,
   "metadata": {},
   "outputs": [],
   "source": [
    "# Peut être faire un fichier avec le board et combien de fois qui a gagné"
   ]
  }
 ]
}