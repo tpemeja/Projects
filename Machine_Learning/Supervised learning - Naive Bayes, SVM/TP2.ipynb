{
  "nbformat": 4,
  "nbformat_minor": 0,
  "metadata": {
    "kernelspec": {
      "display_name": "Python 3",
      "language": "python",
      "name": "python3"
    },
    "language_info": {
      "codemirror_mode": {
        "name": "ipython",
        "version": 3
      },
      "file_extension": ".py",
      "mimetype": "text/x-python",
      "name": "python",
      "nbconvert_exporter": "python",
      "pygments_lexer": "ipython3",
      "version": "3.7.4"
    },
    "latex_envs": {
      "LaTeX_envs_menu_present": true,
      "autoclose": false,
      "autocomplete": true,
      "bibliofile": "biblio.bib",
      "cite_by": "apalike",
      "current_citInitial": 1,
      "eqLabelWithNumbers": true,
      "eqNumInitial": 1,
      "hotkeys": {
        "equation": "Ctrl-E",
        "itemize": "Ctrl-I"
      },
      "labels_anchors": false,
      "latex_user_defs": false,
      "report_style_numbering": false,
      "user_envs_cfg": false
    },
    "colab": {
      "name": "TP2.ipynb",
      "provenance": [],
      "collapsed_sections": [],
      "toc_visible": true
    }
  },
  "cells": [
    {
      "cell_type": "markdown",
      "metadata": {
        "id": "Jje8ksSirsok"
      },
      "source": [
        "# IF240 - Apprentissage et deep learning\n",
        "\n",
        "## Practice 2: Naive Bayes, Evaluation Metrics, SVM \n",
        "\n",
        "By Aurélie Bugeau\n",
        "Credits:  Vincent Lepetit, Varun Kumar, Mohit Deshpande"
      ]
    },
    {
      "cell_type": "markdown",
      "metadata": {
        "id": "EllGe_Jbrsop"
      },
      "source": [
        "### Objectives \n",
        "The objective of the practice is to clssifiy emails from a dataset as spam or non-spam. \n",
        "You will compare diffrent classification methods: Naive Bayes and SVM, ans implement several validation metrics\n",
        "\n",
        "### Libraries\n",
        "The code needs to import the following libraries"
      ]
    },
    {
      "cell_type": "code",
      "metadata": {
        "id": "eDV2TXIersor"
      },
      "source": [
        "import pandas as pd\n",
        "import numpy as np\n",
        "import math\n",
        "import re\n",
        "import string"
      ],
      "execution_count": 1,
      "outputs": []
    },
    {
      "cell_type": "markdown",
      "metadata": {
        "id": "nuThpo1arsov"
      },
      "source": [
        "## 1 Dataset\n",
        "\n",
        "#### Presentation and Loading\n",
        "The dataset used here contained 747 spam and 4825 non-spam (i.e. ham) mails. \n",
        "Emails in the corpus have been already pre-processed in the following ways:\n",
        "Removal of stop words (and, the, of, etc) and lemmatization (inludes, included, include are now all considered as include)"
      ]
    },
    {
      "cell_type": "code",
      "metadata": {
        "id": "jNjNB3nrrsow",
        "outputId": "79ff124c-33cb-4dc5-9460-b949d4ef517b",
        "colab": {
          "base_uri": "https://localhost:8080/"
        }
      },
      "source": [
        "#Open the dataset\n",
        "mails = pd.read_csv(\"spamham.csv\")\n",
        "#count the number of spam/ham mails\n",
        "count = mails['Category'].value_counts()\n",
        "print(count)\n",
        "print(mails.head(), '\\n')"
      ],
      "execution_count": 2,
      "outputs": [
        {
          "output_type": "stream",
          "text": [
            "ham     4825\n",
            "spam     747\n",
            "Name: Category, dtype: int64\n",
            "  Category                                            Message\n",
            "0      ham  Go until jurong point, crazy.. Available only ...\n",
            "1      ham                      Ok lar... Joking wif u oni...\n",
            "2     spam  Free entry in 2 a wkly comp to win FA Cup fina...\n",
            "3      ham  U dun say so early hor... U c already then say...\n",
            "4      ham  Nah I don't think he goes to usf, he lives aro... \n",
            "\n"
          ],
          "name": "stdout"
        }
      ]
    },
    {
      "cell_type": "markdown",
      "metadata": {
        "id": "CBbeWim2rso0"
      },
      "source": [
        "#### Training and evaluation sets\n",
        "Split the dataset into training and evaluation sets."
      ]
    },
    {
      "cell_type": "code",
      "metadata": {
        "id": "-wkLCfQhrso1"
      },
      "source": [
        "# split data as train and evaluation sets. \n",
        "msk = np.random.rand(len(mails)) < 0.8\n",
        "training_set = mails[msk]\n",
        "testing_set = mails[~msk]"
      ],
      "execution_count": 3,
      "outputs": []
    },
    {
      "cell_type": "markdown",
      "metadata": {
        "id": "bKpvMGlTrso5"
      },
      "source": [
        "## 2 Naive Bayes Classification\n",
        "The classifier must be able to predict the label based on the text by implementing the following pseudo code:\n",
        "\n",
        "`\n",
        "if (P('ham' | message ) > P( 'spam' | message )) {\n",
        "  return ‘ham’;\n",
        "} \n",
        "else {\n",
        "  return ‘spam’;\n",
        "}\n",
        "`\n",
        "\n",
        "where\n",
        "$$ P(ham | message)~=~ {\\rm Probability ~that~ email~ is ~ham~ given~ that~ it~ has~ certain~ features~} $$\n",
        "The features can for instance be a set of given words.\n",
        "$$ P(spam | message)~=~ {\\rm Probability ~that~ email~ is ~spam~ given~ that~ it~ has~ certain~ features~} $$\n",
        "\n"
      ]
    },
    {
      "cell_type": "markdown",
      "metadata": {
        "id": "0AJGO_ZFrso6"
      },
      "source": [
        "### Question 1 \n",
        "\n",
        "Apply the Naive Bayes formula in the following code to implement a classifier. You will consider that:\n",
        "$$P(message | spam) = P(word1 | spam) * P(word2 | spam) *...$$\n",
        "\n",
        " \n",
        "_Note:_ if a word in the testing dataset is not present in the training dataset, you may encounter problems as $P(new | ham)$ or $P(new | spam)$ will be 0 making all product equal to 0.\n",
        "To solve this problem, we should take log on both sides. New pseudo code will be\n",
        "\n",
        "`\n",
        "if (log(P('ham' | message )) > log(P('spam' | message))) {\n",
        "  return ‘ham’;\n",
        "} else {\n",
        "  return ‘spam’;\n",
        "}\n",
        "`\n",
        "\n",
        "Then \n",
        "$$ log(P(message| spam)) =  log(P(word1 | spam)) + log(P(word2 | spam)) …$$\n",
        "\n",
        "But the problem is still not solved. If the classifier encounters a new word that is not present in our training data sets then P(new-word | category) will be 0 and log(0) is undefined. To solve this problem, you must use Laplace smoothing:\n",
        "\n",
        "$$P(word1 | spam) = \\frac{{\\rm number~ of ~}word1 {\\rm~belonging~ to ~category~ spam + 1}}{{\\rm  number ~ of ~words~ belonging~ to ~ham ~}+{ \\rm ~number ~of~ distinct ~words~ in ~training ~datasets~}}$$\n"
      ]
    },
    {
      "cell_type": "code",
      "metadata": {
        "id": "ddeD30ARrso7"
      },
      "source": [
        "#tokenize a string into words\n",
        "def tokenize(text):\n",
        "    return re.split(\"\\W+\", text)\n",
        "\n",
        "class SpamDetectorNB(object):\n",
        "\n",
        "    def __init__(self):\n",
        "        self.numberOfmessages = {}\n",
        "        self.log_class_priors = {}\n",
        "        self.word_counts = {}\n",
        "        self.word_index = {}\n",
        "        self.vocab = set()\n",
        "\n",
        "\n",
        "    # compute log class priors log(𝑃(ℎ𝑎𝑚)) and log(𝑃(sp𝑎𝑚))\n",
        "    #by counting up how many spam/ham messages are in our dataset and dividing by the total number\n",
        "    def log_priors(self, training_set):\n",
        "        spam = 0\n",
        "        ham = 0\n",
        "        for _, mail in training_set.iterrows():\n",
        "            label = mail['Category']\n",
        "            if(label == 'spam'):\n",
        "                spam+=1\n",
        "            else:\n",
        "                ham+=1\n",
        "\n",
        "        self.log_class_priors['spam'] = np.log(spam/(spam+ham))\n",
        "        self.log_class_priors['ham'] = np.log(ham/(spam+ham))\n",
        "\n",
        "\n",
        "    #Count how many times each word appears in a text.\n",
        "    #Returns a dictionary that contain for each word indicates the number of times it appears in text.\n",
        "    def get_word_counts(self, text):\n",
        "        word_counts = {}\n",
        "        for word in text:\n",
        "            if(word in word_counts):\n",
        "                word_counts[word]+=1\n",
        "            else:\n",
        "                word_counts[word]=1\n",
        "        return word_counts\n",
        "\n",
        "    #Create a dictionary (a vocabulary of words)\n",
        "    #and count words frequency for spam and ham separately\n",
        "    def get_word_frequency(self, training_set):\n",
        "        self.word_counts['spam'] = {}\n",
        "        self.word_counts['ham'] = {}\n",
        "        for _, mail in training_set.iterrows():\n",
        "            label = mail['Category']\n",
        "            text = mail['Message']\n",
        "            #Tokenize each message into words.\n",
        "            counts = self.get_word_counts(tokenize(text))\n",
        "            for word, count in counts.items():\n",
        "                if word not in self.vocab:\n",
        "                    self.word_index[word] = len(self.vocab)\n",
        "                    self.vocab.add(word)\n",
        "                if word not in self.word_counts[label]:\n",
        "                    self.word_counts['spam'][word] = 0.0\n",
        "                    self.word_counts['ham'][word] = 0.0\n",
        "                self.word_counts[label][word] += count\n",
        "\n",
        "\n",
        "    #compute all necessary features\n",
        "    def train(self, training_set):\n",
        "        self.log_priors(training_set)\n",
        "        self.get_word_frequency(training_set)\n",
        "\n",
        "\n",
        "    def predict(self, testing_set):\n",
        "        result = []\n",
        "        for _, mail in testing_set.iterrows():\n",
        "            label = mail['Category']\n",
        "            text = mail['Message']\n",
        "\n",
        "            #Tokenize each message into words.\n",
        "            counts = self.get_word_counts(tokenize(text))\n",
        "\n",
        "            #Initialize 𝑙𝑜𝑔(𝑃(spam|message)) and 𝑙𝑜𝑔(𝑃(ham|message))  according to log priors\n",
        "            log_m_spam = 0\n",
        "            log_m_ham = 0\n",
        "\n",
        "            #For each message, compute 𝑙𝑜𝑔(𝑃(𝑚𝑒𝑠𝑠𝑎𝑔𝑒|𝑠𝑝𝑎𝑚)) and 𝑙𝑜𝑔(𝑃(𝑚𝑒𝑠𝑠𝑎𝑔𝑒|𝑠𝑝𝑎𝑚))\n",
        "            for word, _ in counts.items():\n",
        "                if word not in self.vocab: continue\n",
        "                #For each word compute log(P(w/spam)) and log(P(w/ham))\n",
        "                if(word not in self.word_counts['spam']):\n",
        "                    log_w_spam = np.log(1/(len(self.word_counts['spam'])+len(self.vocab)))\n",
        "                else:\n",
        "                    log_w_spam = np.log((self.word_counts['spam'][word]+1)/(len(self.word_counts['spam'])+len(self.vocab)))\n",
        "\n",
        "                if(word not in self.word_counts['ham']):\n",
        "                    log_w_ham = np.log(1/(len(self.word_counts['ham'])+len(self.vocab)))\n",
        "                else:\n",
        "                    log_w_ham = np.log((self.word_counts['ham'][word]+1)/(len(self.word_counts['ham'])+len(self.vocab)))\n",
        "                #Update 𝑙𝑜𝑔(𝑃(𝑚𝑒𝑠𝑠𝑎𝑔𝑒|𝑠𝑝𝑎𝑚)) and 𝑙𝑜𝑔(𝑃(𝑚𝑒𝑠𝑠𝑎𝑔𝑒|𝑠𝑝𝑎𝑚))\n",
        "                log_m_spam += log_w_spam\n",
        "                log_m_ham += log_w_ham\n",
        "\n",
        "\n",
        "            #decide spam or ham\n",
        "            log_spam_message = log_m_spam + self.log_class_priors['spam']\n",
        "            log_ham_message = log_m_ham + self.log_class_priors['ham']\n",
        "\n",
        "            if(log_spam_message >= log_ham_message):\n",
        "                result.append([label,'spam'])\n",
        "            else:\n",
        "                result.append([label,'ham'])\n",
        "\n",
        "        return result\n",
        "\n",
        "sd = SpamDetectorNB()\n",
        "sd.train(training_set)\n",
        "result = sd.predict(testing_set)"
      ],
      "execution_count": 4,
      "outputs": []
    },
    {
      "cell_type": "markdown",
      "metadata": {
        "id": "UCVvHBqXrspB"
      },
      "source": [
        "### Question 2 - Accuracy and confution matrix\n",
        "Compute the precision, recall, accuracy and confusion matrix"
      ]
    },
    {
      "cell_type": "code",
      "metadata": {
        "id": "HSAKCUvfrspC",
        "outputId": "de7d3d35-b6c0-495c-b3f7-ebe7aab2c7f1",
        "colab": {
          "base_uri": "https://localhost:8080/"
        }
      },
      "source": [
        "def TP(result):\n",
        "    tp = 0\n",
        "    for i in range(len(result)):\n",
        "        tp += ((result[i][0]=='spam')and(result[i][1]=='spam'))\n",
        "    return tp\n",
        "\n",
        "def FP(result):\n",
        "    fp = 0\n",
        "    for i in range(len(result)):\n",
        "        fp += ((result[i][0]=='ham')and(result[i][1]=='spam'))\n",
        "    return fp\n",
        "\n",
        "def TN(result):\n",
        "    tn = 0\n",
        "    for i in range(len(result)):\n",
        "        tn += ((result[i][0]=='spam')and(result[i][1]=='ham'))\n",
        "    return tn\n",
        "\n",
        "def FN(result):\n",
        "    fn = 0\n",
        "    for i in range(len(result)):\n",
        "        fn += ((result[i][0]=='ham')and(result[i][1]=='ham'))\n",
        "    return fn\n",
        "\n",
        "\n",
        "print(\"Precision: \",TP(result)/(TP(result)+FP(result))*100,\"%\")\n",
        "print(\"Recall: \",TP(result)/(TP(result)+FN(result))*100,\"%\")\n",
        "print(\"Accuracy \",(TP(result)+FP(result))/(TP(result)+FP(result)+TN(result)+FN(result))*100,\"%\")\n",
        "print(\"Confusion matrix using SpamDetectorNB : \\n\",np.array([[TN(result),FP(result)],[FN(result),TP(result)]]))\n"
      ],
      "execution_count": 5,
      "outputs": [
        {
          "output_type": "stream",
          "text": [
            "Precision:  100.0 %\n",
            "Recall:  8.256029684601113 %\n",
            "Accuracy  7.897071872227151 %\n",
            "Confusion matrix using SpamDetectorNB : \n",
            " [[ 49   0]\n",
            " [989  89]]\n"
          ],
          "name": "stdout"
        }
      ]
    },
    {
      "cell_type": "markdown",
      "metadata": {
        "id": "1bywyLqUrspG"
      },
      "source": [
        "### Question 3 - Naive Bayes with Scikit-learn library\n",
        "The Scikit-learn library proposes many functions for machine learning.  Study the documentation of the  MultinomialNB function and apply it for spam detection.\n",
        "\n",
        "You will need to convert the dataset into arrays\n"
      ]
    },
    {
      "cell_type": "code",
      "metadata": {
        "id": "Qx7lgWkw-t-3"
      },
      "source": [
        "import string\n",
        "def text_process(mess):\n",
        "    #Check characters to see if there are punctuation\n",
        "    nopunc = [char for char in mess if char not in string.punctuation]\n",
        "\n",
        "    #Join the characters again\n",
        "    nopunc = \"\".join(nopunc)\n",
        "\n",
        "    #Remove stopwords\n",
        "    return [word for word in nopunc.split() if word.lower()]\n",
        "\n",
        "from sklearn.feature_extraction.text import CountVectorizer\n",
        "from sklearn.feature_extraction.text import TfidfTransformer\n",
        "\n",
        "def vectorization(set):\n",
        "  bow_transformer = CountVectorizer(analyzer = text_process).fit(set[\"Message\"])\n",
        "\n",
        "  set_bow = bow_transformer.transform(set[\"Message\"])\n",
        "\n",
        "  tfid_transformer = TfidfTransformer().fit(set_bow)\n",
        "  set_tfidf = tfid_transformer.transform(set_bow)\n",
        "  return set_tfidf\n",
        "\n",
        "vect_mails = vectorization(mails)\n",
        "\n",
        "vect_train_set = vect_mails[msk]\n",
        "y_train = mails[\"Category\"][msk]\n",
        "vect_test_set = vect_mails[~msk]\n",
        "y_test = mails[\"Category\"][~msk]"
      ],
      "execution_count": 6,
      "outputs": []
    },
    {
      "cell_type": "code",
      "metadata": {
        "id": "g-zDH22_9Ew7"
      },
      "source": [
        "from sklearn.naive_bayes import MultinomialNB\n",
        "classifier = MultinomialNB()\n",
        "classifier.fit(vect_train_set, y_train)\n",
        "\n",
        "y_pred = classifier.predict(vect_test_set)"
      ],
      "execution_count": 7,
      "outputs": []
    },
    {
      "cell_type": "markdown",
      "metadata": {
        "id": "YZLEjQyarspM"
      },
      "source": [
        "### Question 4 - Evaluation with Scikit-learn library\n",
        "The Scikit-learn library also proposes  functions to evaluate machine learning methods. Apply them to the spam detection problem"
      ]
    },
    {
      "cell_type": "code",
      "metadata": {
        "id": "QUrVzPXKrspN",
        "outputId": "584a2258-fb52-4dbd-f740-21fc905b310a",
        "colab": {
          "base_uri": "https://localhost:8080/",
          "height": 285
        }
      },
      "source": [
        "from sklearn.metrics import accuracy_score,confusion_matrix\n",
        "accuracy_score(y_test, y_pred)\n",
        "cmMNb = confusion_matrix(y_test, y_pred, labels=[\"ham\", \"spam\"])\n",
        "\n",
        "cmMNb = pd.DataFrame(cmMNb, index = [\"ham\", \"spam\"],\n",
        "                  columns = [\"ham\", \"spam\"])\n",
        "\n",
        "#for visualisation of the confusion matrix\n",
        "import seaborn as sns; sns.set()  # for plot styling\n",
        "sns.heatmap(cmMNb.T, square=True, annot=True, fmt='d', cbar=False) # xticklabels=,yticklabels=\n"
      ],
      "execution_count": 8,
      "outputs": [
        {
          "output_type": "execute_result",
          "data": {
            "text/plain": [
              "<matplotlib.axes._subplots.AxesSubplot at 0x7f90c61abac8>"
            ]
          },
          "metadata": {
            "tags": []
          },
          "execution_count": 8
        },
        {
          "output_type": "display_data",
          "data": {
            "image/png": "[encoded data removed]",
            "text/plain": [
              "<Figure size 432x288 with 1 Axes>"
            ]
          },
          "metadata": {
            "tags": []
          }
        }
      ]
    },
    {
      "cell_type": "markdown",
      "metadata": {
        "id": "72hB00zXrspQ"
      },
      "source": [
        "### Question 5 - SVM Scikit-learn library\n",
        "Apply SVM with a linear kernel to the spam dataset. "
      ]
    },
    {
      "cell_type": "code",
      "metadata": {
        "id": "5gfvBApQrspR",
        "outputId": "7f2d938c-e664-431f-b2cd-6b65e1f536dd",
        "colab": {
          "base_uri": "https://localhost:8080/",
          "height": 285
        }
      },
      "source": [
        "from sklearn.svm import LinearSVC\n",
        "clf = LinearSVC()\n",
        "clf.fit(vect_train_set, y_train)\n",
        "\n",
        "y_pred = clf.predict(vect_test_set)\n",
        "\n",
        "accuracy_score(y_test, y_pred)\n",
        "cmMNb = confusion_matrix(y_test, y_pred, labels=[\"ham\", \"spam\"])\n",
        "\n",
        "cmMNb = pd.DataFrame(cmMNb, index = [\"ham\", \"spam\"],\n",
        "                  columns = [\"ham\", \"spam\"])\n",
        "\n",
        "#for visualisation of the confusion matrix\n",
        "import seaborn as sns; sns.set()  # for plot styling\n",
        "sns.heatmap(cmMNb.T, square=True, annot=True, fmt='d', cbar=False) # xticklabels=,yticklabels=\n"
      ],
      "execution_count": 9,
      "outputs": [
        {
          "output_type": "execute_result",
          "data": {
            "text/plain": [
              "<matplotlib.axes._subplots.AxesSubplot at 0x7f90c1af24e0>"
            ]
          },
          "metadata": {
            "tags": []
          },
          "execution_count": 9
        },
        {
          "output_type": "display_data",
          "data": {
            "image/png": "[encoded data removed]",
            "text/plain": [
              "<Figure size 432x288 with 1 Axes>"
            ]
          },
          "metadata": {
            "tags": []
          }
        }
      ]
    }
  ]
}